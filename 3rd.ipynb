{
 "cells": [
  {
   "cell_type": "code",
   "execution_count": null,
   "id": "4a037e08-36e7-40b2-be9c-cbd29aac657c",
   "metadata": {},
   "outputs": [],
   "source": [
    "// Solidity program to \n",
    "// retrieve address and \n",
    "// balance of owner \n",
    "pragma solidity ^0.6.8;  \n",
    "// Creating a contract \n",
    "contract MyContract \n",
    "{ \n",
    " // Private state variable \n",
    " address private owner; \n",
    " // Defining a constructor \n",
    " constructor() public{ \n",
    "  owner=msg.sender; \n",
    " } \n",
    " // Function to get \n",
    " // address of owner \n",
    " function getOwner( \n",
    " ) public view returns (address) {  \n",
    "  return owner; \n",
    " } \n",
    " // Function to return current balance of owner \n",
    " function getBalance( \n",
    " ) public view returns(uint256){ \n",
    "  return owner.balance; \n",
    " } \n",
    "} \n"
   ]
  }
 ],
 "metadata": {
  "kernelspec": {
   "display_name": "Python 3 (ipykernel)",
   "language": "python",
   "name": "python3"
  },
  "language_info": {
   "codemirror_mode": {
    "name": "ipython",
    "version": 3
   },
   "file_extension": ".py",
   "mimetype": "text/x-python",
   "name": "python",
   "nbconvert_exporter": "python",
   "pygments_lexer": "ipython3",
   "version": "3.10.4"
  }
 },
 "nbformat": 4,
 "nbformat_minor": 5
}
